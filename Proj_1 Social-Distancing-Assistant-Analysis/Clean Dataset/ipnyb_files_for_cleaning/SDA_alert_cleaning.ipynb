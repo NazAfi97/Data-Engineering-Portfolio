{
 "cells": [
  {
   "cell_type": "code",
   "execution_count": 1,
   "metadata": {},
   "outputs": [
    {
     "data": {
      "text/html": [
       "\n",
       "            <div>\n",
       "                <p><b>SparkSession - in-memory</b></p>\n",
       "                \n",
       "        <div>\n",
       "            <p><b>SparkContext</b></p>\n",
       "\n",
       "            <p><a href=\"http://DESKTOP-PB7GEDC.realtek:4040\">Spark UI</a></p>\n",
       "\n",
       "            <dl>\n",
       "              <dt>Version</dt>\n",
       "                <dd><code>v3.0.1</code></dd>\n",
       "              <dt>Master</dt>\n",
       "                <dd><code>local[*]</code></dd>\n",
       "              <dt>AppName</dt>\n",
       "                <dd><code>pyspark-shell</code></dd>\n",
       "            </dl>\n",
       "        </div>\n",
       "        \n",
       "            </div>\n",
       "        "
      ],
      "text/plain": [
       "<pyspark.sql.session.SparkSession at 0x1d0a4ac3070>"
      ]
     },
     "execution_count": 1,
     "metadata": {},
     "output_type": "execute_result"
    }
   ],
   "source": [
    "import pyspark\n",
    "from pyspark.sql import SparkSession\n",
    "from pyspark.sql.functions import isnan, when, count, col\n",
    "spark = SparkSession.builder.getOrCreate()\n",
    "spark"
   ]
  },
  {
   "cell_type": "code",
   "execution_count": 2,
   "metadata": {},
   "outputs": [],
   "source": [
    "import os\n",
    "MAIN_DIR = os.getcwd()\n",
    "file_path = MAIN_DIR + \"/sda_alerts.csv\""
   ]
  },
  {
   "cell_type": "code",
   "execution_count": 3,
   "metadata": {},
   "outputs": [],
   "source": [
    "sdaa_df = spark.read.format(\"csv\").option(\"header\",\"true\").load(file_path)"
   ]
  },
  {
   "cell_type": "code",
   "execution_count": 4,
   "metadata": {},
   "outputs": [
    {
     "data": {
      "text/plain": [
       "[Row(id='373545', tenant_id='56', customer_subscribed_product_id='56', asset_id=None, asset2_id=None, device_id=None, device2_id=None, entity_assigned_device_id=None, entity_assigned_device2_id=None, external_id='7223#38090#1603806067000#83#6#1', tag='7223', tag_detected='38090', alert_timestamp='1603806067', alert_at='2020-10-28 05:41:07', alert_at_date='2020-10-27', distance='83', duration='6', latitude='3.0897048668012', longitude='101.54857590751', alert_level='1', extra_attributes='[]', created_at='2021-04-01 15:59:28', updated_at='2021-04-01 15:59:28', deleted_at=None, client_id=None, rssi=None, loc_beacon_minor=None, loc_beacon_rssi=None, source_ty=None, source_mac=None),\n",
       " Row(id='373563', tenant_id='56', customer_subscribed_product_id='56', asset_id=None, asset2_id=None, device_id='324', device2_id=None, entity_assigned_device_id='836', entity_assigned_device2_id=None, external_id='13674#7223#1603806060000#89#6#1', tag='13674', tag_detected='7223', alert_timestamp='1603806060', alert_at='2020-10-28 05:41:00', alert_at_date='2020-10-27', distance='89', duration='6', latitude='3.0897048668012', longitude='101.54857590751', alert_level='1', extra_attributes='[]', created_at='2021-04-01 15:59:29', updated_at='2021-04-01 15:59:29', deleted_at=None, client_id=None, rssi=None, loc_beacon_minor=None, loc_beacon_rssi=None, source_ty=None, source_mac=None),\n",
       " Row(id='373581', tenant_id='56', customer_subscribed_product_id='56', asset_id=None, asset2_id=None, device_id=None, device2_id=None, entity_assigned_device_id=None, entity_assigned_device2_id=None, external_id='38090#7223#1603806055000#109#2#1', tag='38090', tag_detected='7223', alert_timestamp='1603806055', alert_at='2020-10-28 05:40:55', alert_at_date='2020-10-27', distance='109', duration='2', latitude='3.0897048668012', longitude='101.54857590751', alert_level='1', extra_attributes='[]', created_at='2021-04-01 15:59:29', updated_at='2021-04-01 15:59:29', deleted_at=None, client_id=None, rssi=None, loc_beacon_minor=None, loc_beacon_rssi=None, source_ty=None, source_mac=None)]"
      ]
     },
     "execution_count": 4,
     "metadata": {},
     "output_type": "execute_result"
    }
   ],
   "source": [
    "sdaa_df.head(3)"
   ]
  },
  {
   "cell_type": "code",
   "execution_count": 5,
   "metadata": {},
   "outputs": [
    {
     "name": "stdout",
     "output_type": "stream",
     "text": [
      "+------+---------+------------------------------+--------+---------+---------+----------+-------------------------+--------------------------+--------------------+-----+------------+---------------+-------------------+-------------+--------+--------+---------------+---------------+-----------+----------------+-------------------+-------------------+----------+---------+----+----------------+---------------+---------+----------+\n",
      "|    id|tenant_id|customer_subscribed_product_id|asset_id|asset2_id|device_id|device2_id|entity_assigned_device_id|entity_assigned_device2_id|         external_id|  tag|tag_detected|alert_timestamp|           alert_at|alert_at_date|distance|duration|       latitude|      longitude|alert_level|extra_attributes|         created_at|         updated_at|deleted_at|client_id|rssi|loc_beacon_minor|loc_beacon_rssi|source_ty|source_mac|\n",
      "+------+---------+------------------------------+--------+---------+---------+----------+-------------------------+--------------------------+--------------------+-----+------------+---------------+-------------------+-------------+--------+--------+---------------+---------------+-----------+----------------+-------------------+-------------------+----------+---------+----+----------------+---------------+---------+----------+\n",
      "|373545|       56|                            56|    null|     null|     null|      null|                     null|                      null|7223#38090#160380...| 7223|       38090|     1603806067|2020-10-28 05:41:07|   2020-10-27|      83|       6|3.0897048668012|101.54857590751|          1|              []|2021-04-01 15:59:28|2021-04-01 15:59:28|      null|     null|null|            null|           null|     null|      null|\n",
      "|373563|       56|                            56|    null|     null|      324|      null|                      836|                      null|13674#7223#160380...|13674|        7223|     1603806060|2020-10-28 05:41:00|   2020-10-27|      89|       6|3.0897048668012|101.54857590751|          1|              []|2021-04-01 15:59:29|2021-04-01 15:59:29|      null|     null|null|            null|           null|     null|      null|\n",
      "|373581|       56|                            56|    null|     null|     null|      null|                     null|                      null|38090#7223#160380...|38090|        7223|     1603806055|2020-10-28 05:40:55|   2020-10-27|     109|       2|3.0897048668012|101.54857590751|          1|              []|2021-04-01 15:59:29|2021-04-01 15:59:29|      null|     null|null|            null|           null|     null|      null|\n",
      "|373598|       56|                            56|    null|     null|     null|      null|                     null|                      null|7223#38090#160380...| 7223|       38090|     1603806052|2020-10-28 05:40:52|   2020-10-27|     135|      10|3.0897048668012|101.54857590751|          3|              []|2021-04-01 15:59:30|2021-04-01 15:59:30|      null|     null|null|            null|           null|     null|      null|\n",
      "|373609|       56|                            56|    null|     null|     null|      null|                     null|                      null|7223#38090#160380...| 7223|       38090|     1603805981|2020-10-28 05:39:41|   2020-10-27|     140|      10|3.0897048668012|101.54857590751|          2|              []|2021-04-01 15:59:30|2021-04-01 15:59:30|      null|     null|null|            null|           null|     null|      null|\n",
      "|373621|       56|                            56|    null|     null|     null|      null|                     null|                      null|7223#38090#160380...| 7223|       38090|     1603805802|2020-10-28 05:36:42|   2020-10-27|     139|      23|3.0897048668012|101.54857590751|          2|              []|2021-04-01 15:59:31|2021-04-01 15:59:31|      null|     null|null|            null|           null|     null|      null|\n",
      "|373633|       56|                            56|    null|     null|     null|      null|                     null|                      null|7223#38090#160380...| 7223|       38090|     1603805775|2020-10-28 05:36:15|   2020-10-27|     139|       7|3.0897048668012|101.54857590751|          1|              []|2021-04-01 15:59:31|2021-04-01 15:59:31|      null|     null|null|            null|           null|     null|      null|\n",
      "|373643|       56|                            56|    null|     null|     null|      null|                     null|                      null|7223#38090#160380...| 7223|       38090|     1603805691|2020-10-28 05:34:51|   2020-10-27|     139|      79|3.0897048668012|101.54857590751|          1|              []|2021-04-01 15:59:32|2021-04-01 15:59:32|      null|     null|null|            null|           null|     null|      null|\n",
      "|373660|       56|                            56|    null|     null|     null|      null|                     null|                      null|38090#7223#160380...|38090|        7223|     1603805638|2020-10-28 05:33:58|   2020-10-27|     141|      91|3.0897048668012|101.54857590751|          1|              []|2021-04-01 15:59:33|2021-04-01 15:59:33|      null|     null|null|            null|           null|     null|      null|\n",
      "|373677|       56|                            56|    null|     null|     null|      null|                     null|                      null|7223#38090#160380...| 7223|       38090|     1603805633|2020-10-28 05:33:53|   2020-10-27|     147|       2|3.0897048668012|101.54857590751|          1|              []|2021-04-01 15:59:33|2021-04-01 15:59:33|      null|     null|null|            null|           null|     null|      null|\n",
      "|373706|       56|                            56|    null|     null|      324|      null|                      836|                      null|13674#7223#160380...|13674|        7223|     1603805619|2020-10-28 05:33:39|   2020-10-27|     105|       5|3.0897048668012|101.54857590751|          1|              []|2021-04-01 15:59:34|2021-04-01 15:59:34|      null|     null|null|            null|           null|     null|      null|\n",
      "|373736|       56|                            56|    null|     null|     null|       324|                     null|                       836|7223#13674#160380...| 7223|       13674|     1603805619|2020-10-28 05:33:39|   2020-10-27|      86|       4|3.0897048668012|101.54857590751|          1|              []|2021-04-01 15:59:36|2021-04-01 15:59:36|      null|     null|null|            null|           null|     null|      null|\n",
      "|373756|       56|                            56|    null|     null|     null|      null|                     null|                      null|38090#7223#160380...|38090|        7223|     1603805003|2020-10-28 05:23:23|   2020-10-27|     135|       2|3.0897048668012|101.54857590751|          1|              []|2021-04-01 15:59:36|2021-04-01 15:59:36|      null|     null|null|            null|           null|     null|      null|\n",
      "|373771|       56|                            56|    null|     null|     null|      null|                     null|                      null|7223#38090#160380...| 7223|       38090|     1603805002|2020-10-28 05:23:22|   2020-10-27|     135|       2|3.0897048668012|101.54857590751|          1|              []|2021-04-01 15:59:37|2021-04-01 15:59:37|      null|     null|null|            null|           null|     null|      null|\n",
      "|373801|       56|                            56|    null|     null|     null|       324|                     null|                       836|7223#13674#160380...| 7223|       13674|     1603805000|2020-10-28 05:23:20|   2020-10-27|      87|      24|3.0897048668012|101.54857590751|          1|              []|2021-04-01 15:59:38|2021-04-01 15:59:38|      null|     null|null|            null|           null|     null|      null|\n",
      "|373823|       56|                            56|    null|     null|      324|      null|                      836|                      null|13674#7223#160380...|13674|        7223|     1603804974|2020-10-28 05:22:54|   2020-10-27|      15|       2|3.0897048668012|101.54857590751|          1|              []|2021-04-01 15:59:38|2021-04-01 15:59:38|      null|     null|null|            null|           null|     null|      null|\n",
      "|373860|       56|                            56|    null|     null|     null|       324|                     null|                       836|7223#13674#160380...| 7223|       13674|     1603804973|2020-10-28 05:22:53|   2020-10-27|      15|       2|3.0897048668012|101.54857590751|          1|              []|2021-04-01 15:59:39|2021-04-01 15:59:39|      null|     null|null|            null|           null|     null|      null|\n",
      "|373883|       56|                            56|    null|     null|      324|      null|                      836|                      null|13674#38090#16038...|13674|       38090|     1603803352|2020-10-28 04:55:52|   2020-10-27|      25|      27|3.0897048668012|101.54857590751|          1|              []|2021-04-01 15:59:40|2021-04-01 15:59:40|      null|     null|null|            null|           null|     null|      null|\n",
      "|373929|       56|                            56|    null|     null|      324|      null|                      836|                      null|13674#7223#160380...|13674|        7223|     1603803212|2020-10-28 04:53:32|   2020-10-27|      75|      39|3.0897048668012|101.54857590751|          3|              []|2021-04-01 15:59:42|2021-04-01 15:59:42|      null|     null|null|            null|           null|     null|      null|\n",
      "|373965|       56|                            56|    null|     null|      324|      null|                      836|                      null|13674#38090#16038...|13674|       38090|     1603803194|2020-10-28 04:53:14|   2020-10-27|     103|      13|3.0897048668012|101.54857590751|          1|              []|2021-04-01 15:59:44|2021-04-01 15:59:44|      null|     null|null|            null|           null|     null|      null|\n",
      "+------+---------+------------------------------+--------+---------+---------+----------+-------------------------+--------------------------+--------------------+-----+------------+---------------+-------------------+-------------+--------+--------+---------------+---------------+-----------+----------------+-------------------+-------------------+----------+---------+----+----------------+---------------+---------+----------+\n",
      "only showing top 20 rows\n",
      "\n"
     ]
    }
   ],
   "source": [
    "sdaa_df.show()"
   ]
  },
  {
   "cell_type": "code",
   "execution_count": 6,
   "metadata": {},
   "outputs": [
    {
     "data": {
      "text/plain": [
       "2609426"
      ]
     },
     "execution_count": 6,
     "metadata": {},
     "output_type": "execute_result"
    }
   ],
   "source": [
    "sdaa_df.count()"
   ]
  },
  {
   "cell_type": "code",
   "execution_count": 7,
   "metadata": {},
   "outputs": [
    {
     "name": "stdout",
     "output_type": "stream",
     "text": [
      "root\n",
      " |-- id: string (nullable = true)\n",
      " |-- tenant_id: string (nullable = true)\n",
      " |-- customer_subscribed_product_id: string (nullable = true)\n",
      " |-- asset_id: string (nullable = true)\n",
      " |-- asset2_id: string (nullable = true)\n",
      " |-- device_id: string (nullable = true)\n",
      " |-- device2_id: string (nullable = true)\n",
      " |-- entity_assigned_device_id: string (nullable = true)\n",
      " |-- entity_assigned_device2_id: string (nullable = true)\n",
      " |-- external_id: string (nullable = true)\n",
      " |-- tag: string (nullable = true)\n",
      " |-- tag_detected: string (nullable = true)\n",
      " |-- alert_timestamp: string (nullable = true)\n",
      " |-- alert_at: string (nullable = true)\n",
      " |-- alert_at_date: string (nullable = true)\n",
      " |-- distance: string (nullable = true)\n",
      " |-- duration: string (nullable = true)\n",
      " |-- latitude: string (nullable = true)\n",
      " |-- longitude: string (nullable = true)\n",
      " |-- alert_level: string (nullable = true)\n",
      " |-- extra_attributes: string (nullable = true)\n",
      " |-- created_at: string (nullable = true)\n",
      " |-- updated_at: string (nullable = true)\n",
      " |-- deleted_at: string (nullable = true)\n",
      " |-- client_id: string (nullable = true)\n",
      " |-- rssi: string (nullable = true)\n",
      " |-- loc_beacon_minor: string (nullable = true)\n",
      " |-- loc_beacon_rssi: string (nullable = true)\n",
      " |-- source_ty: string (nullable = true)\n",
      " |-- source_mac: string (nullable = true)\n",
      "\n"
     ]
    }
   ],
   "source": [
    "sdaa_df.printSchema()"
   ]
  },
  {
   "cell_type": "markdown",
   "metadata": {},
   "source": [
    "Finding null values in dataframe using pyspark .isNull() function."
   ]
  },
  {
   "cell_type": "code",
   "execution_count": 9,
   "metadata": {
    "scrolled": false
   },
   "outputs": [
    {
     "name": "stdout",
     "output_type": "stream",
     "text": [
      "+---+---------+------------------------------+--------+---------+---------+----------+-------------------------+--------------------------+-----------+---+------------+---------------+--------+-------------+--------+--------+--------+---------+-----------+----------------+----------+----------+----------+---------+------+----------------+---------------+---------+----------+\n",
      "| id|tenant_id|customer_subscribed_product_id|asset_id|asset2_id|device_id|device2_id|entity_assigned_device_id|entity_assigned_device2_id|external_id|tag|tag_detected|alert_timestamp|alert_at|alert_at_date|distance|duration|latitude|longitude|alert_level|extra_attributes|created_at|updated_at|deleted_at|client_id|  rssi|loc_beacon_minor|loc_beacon_rssi|source_ty|source_mac|\n",
      "+---+---------+------------------------------+--------+---------+---------+----------+-------------------------+--------------------------+-----------+---+------------+---------------+--------+-------------+--------+--------+--------+---------+-----------+----------------+----------+----------+----------+---------+------+----------------+---------------+---------+----------+\n",
      "|  0|        0|                             0|  529218|   963988|     1501|      1701|                   529122|                    963862|          0|  0|           0|              0|       0|            0|       0|     188|      26|       26|          0|               0|         0|         0|   2609426|   544119|544119|          544119|         544119|   544119|    544137|\n",
      "+---+---------+------------------------------+--------+---------+---------+----------+-------------------------+--------------------------+-----------+---+------------+---------------+--------+-------------+--------+--------+--------+---------+-----------+----------------+----------+----------+----------+---------+------+----------------+---------------+---------+----------+\n",
      "\n"
     ]
    }
   ],
   "source": [
    "sdaa_df.select([count(when(col(c).isNull(), c)).alias(c) for c in sdaa_df.columns]).show()"
   ]
  },
  {
   "cell_type": "code",
   "execution_count": null,
   "metadata": {},
   "outputs": [],
   "source": []
  }
 ],
 "metadata": {
  "kernelspec": {
   "display_name": "Python 3",
   "language": "python",
   "name": "python3"
  },
  "language_info": {
   "codemirror_mode": {
    "name": "ipython",
    "version": 3
   },
   "file_extension": ".py",
   "mimetype": "text/x-python",
   "name": "python",
   "nbconvert_exporter": "python",
   "pygments_lexer": "ipython3",
   "version": "3.8.5"
  }
 },
 "nbformat": 4,
 "nbformat_minor": 4
}
